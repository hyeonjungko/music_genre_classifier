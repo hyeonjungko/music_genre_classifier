{
 "cells": [
  {
   "cell_type": "code",
   "execution_count": 1,
   "metadata": {},
   "outputs": [
    {
     "name": "stderr",
     "output_type": "stream",
     "text": [
      "Using TensorFlow backend.\n"
     ]
    }
   ],
   "source": [
    "import os\n",
    "import keras\n",
    "import numpy as np\n",
    "import sklearn.model_selection as ms\n",
    "import sklearn.decomposition as decomp\n",
    "import sklearn.metrics as metrics\n",
    "import matplotlib.pyplot as plt\n",
    "from mpl_toolkits.mplot3d import Axes3D\n",
    "import librosa\n",
    "import librosa.display as display"
   ]
  },
  {
   "cell_type": "code",
   "execution_count": null,
   "metadata": {},
   "outputs": [],
   "source": [
    "#load in the saved data\n",
    "X = np.load('data_mat/X3.npy')\n",
    "Y = np.load('data_mat/Y3.npy')"
   ]
  },
  {
   "cell_type": "code",
   "execution_count": 31,
   "metadata": {},
   "outputs": [
    {
     "data": {
      "text/plain": [
       "(400, 5)"
      ]
     },
     "execution_count": 31,
     "metadata": {},
     "output_type": "execute_result"
    }
   ],
   "source": [
    "X_test = np.load('mfcc_vals/X_test.npy')\n",
    "X_train = np.load('mfcc_vals/X_train.npy')\n",
    "Y_test = np.loadtxt('mfcc_vals/Y_test.txt')\n",
    "Y_train = np.loadtxt('mfcc_vals/Y_train.txt')\n",
    "Y_train.shape"
   ]
  },
  {
   "cell_type": "code",
   "execution_count": 27,
   "metadata": {},
   "outputs": [],
   "source": [
    "def model(input_shape):\n",
    "    X_inputs = keras.layers.Input(input_shape)\n",
    "    X = X_inputs\n",
    "    \n",
    "    X = keras.layers.Conv1D(filters=16, kernel_size=64, dilation_rate=8,\n",
    "                            padding='same', data_format=\"channels_last\")(X)\n",
    "    X = keras.layers.Dropout(0.5)(X)    \n",
    "    X = keras.layers.AveragePooling1D(pool_size=32)(X)\n",
    "    X = keras.layers.BatchNormalization(axis = 2)(X)\n",
    "    X = keras.layers.Activation('relu')(X)\n",
    "    \n",
    "    X = keras.layers.Conv1D(filters=64, kernel_size=16, dilation_rate=2, padding='valid', data_format=\"channels_last\")(X)\n",
    "    X = keras.layers.Dropout(0.5)(X)    \n",
    "    X = keras.layers.AveragePooling1D(pool_size=4)(X)\n",
    "    X = keras.layers.BatchNormalization(axis = 2)(X)\n",
    "    X = keras.layers.Activation('relu')(X)\n",
    "\n",
    "    X = keras.layers.Flatten()(X)\n",
    "#     X = keras.layers.Dropout(0.5)(X)    \n",
    "    X = keras.layers.Dense(5, activation='softmax')(X)\n",
    "    \n",
    "    model = keras.models.Model(inputs=X_inputs, outputs=X, name='cnn')\n",
    "    return model"
   ]
  },
  {
   "cell_type": "code",
   "execution_count": 28,
   "metadata": {},
   "outputs": [],
   "source": [
    "m = model(X_train.shape[1:])\n",
    "opt = keras.optimizers.Adam(lr=0.001, beta_1=0.9, beta_2=0.999)\n",
    "m.compile(optimizer=opt, loss='categorical_crossentropy', metrics=['categorical_accuracy'])"
   ]
  },
  {
   "cell_type": "code",
   "execution_count": 29,
   "metadata": {},
   "outputs": [
    {
     "name": "stdout",
     "output_type": "stream",
     "text": [
      "Model: \"cnn\"\n",
      "_________________________________________________________________\n",
      "Layer (type)                 Output Shape              Param #   \n",
      "=================================================================\n",
      "input_6 (InputLayer)         (None, 1290, 20)          0         \n",
      "_________________________________________________________________\n",
      "conv1d_7 (Conv1D)            (None, 1290, 16)          20496     \n",
      "_________________________________________________________________\n",
      "dropout_8 (Dropout)          (None, 1290, 16)          0         \n",
      "_________________________________________________________________\n",
      "average_pooling1d_7 (Average (None, 40, 16)            0         \n",
      "_________________________________________________________________\n",
      "batch_normalization_7 (Batch (None, 40, 16)            64        \n",
      "_________________________________________________________________\n",
      "activation_7 (Activation)    (None, 40, 16)            0         \n",
      "_________________________________________________________________\n",
      "conv1d_8 (Conv1D)            (None, 10, 64)            16448     \n",
      "_________________________________________________________________\n",
      "dropout_9 (Dropout)          (None, 10, 64)            0         \n",
      "_________________________________________________________________\n",
      "average_pooling1d_8 (Average (None, 2, 64)             0         \n",
      "_________________________________________________________________\n",
      "batch_normalization_8 (Batch (None, 2, 64)             256       \n",
      "_________________________________________________________________\n",
      "activation_8 (Activation)    (None, 2, 64)             0         \n",
      "_________________________________________________________________\n",
      "flatten_4 (Flatten)          (None, 128)               0         \n",
      "_________________________________________________________________\n",
      "dense_4 (Dense)              (None, 5)                 645       \n",
      "=================================================================\n",
      "Total params: 37,909\n",
      "Trainable params: 37,749\n",
      "Non-trainable params: 160\n",
      "_________________________________________________________________\n"
     ]
    }
   ],
   "source": [
    "m.summary()"
   ]
  },
  {
   "cell_type": "code",
   "execution_count": 30,
   "metadata": {},
   "outputs": [
    {
     "name": "stdout",
     "output_type": "stream",
     "text": [
      "Epoch 1/50\n",
      "400/400 [==============================] - 2s 4ms/step - loss: 1.1422 - categorical_accuracy: 0.5675\n",
      "Epoch 2/50\n",
      "400/400 [==============================] - 1s 2ms/step - loss: 0.6955 - categorical_accuracy: 0.7225\n",
      "Epoch 3/50\n",
      "400/400 [==============================] - 1s 2ms/step - loss: 0.5835 - categorical_accuracy: 0.7875\n",
      "Epoch 4/50\n",
      "400/400 [==============================] - 1s 2ms/step - loss: 0.4766 - categorical_accuracy: 0.8500\n",
      "Epoch 5/50\n",
      "400/400 [==============================] - 1s 2ms/step - loss: 0.4639 - categorical_accuracy: 0.8125\n",
      "Epoch 6/50\n",
      "400/400 [==============================] - 1s 2ms/step - loss: 0.3989 - categorical_accuracy: 0.8750\n",
      "Epoch 7/50\n",
      "400/400 [==============================] - 1s 2ms/step - loss: 0.3706 - categorical_accuracy: 0.8750\n",
      "Epoch 8/50\n",
      "400/400 [==============================] - 1s 2ms/step - loss: 0.3763 - categorical_accuracy: 0.8525\n",
      "Epoch 9/50\n",
      "400/400 [==============================] - 1s 2ms/step - loss: 0.3442 - categorical_accuracy: 0.8800\n",
      "Epoch 10/50\n",
      "400/400 [==============================] - 1s 2ms/step - loss: 0.3125 - categorical_accuracy: 0.8900\n",
      "Epoch 11/50\n",
      "400/400 [==============================] - 1s 2ms/step - loss: 0.3058 - categorical_accuracy: 0.9025\n",
      "Epoch 12/50\n",
      "400/400 [==============================] - 1s 2ms/step - loss: 0.3125 - categorical_accuracy: 0.8825\n",
      "Epoch 13/50\n",
      "400/400 [==============================] - 1s 2ms/step - loss: 0.2914 - categorical_accuracy: 0.9100\n",
      "Epoch 14/50\n",
      "400/400 [==============================] - 1s 2ms/step - loss: 0.3013 - categorical_accuracy: 0.8950\n",
      "Epoch 15/50\n",
      "400/400 [==============================] - 1s 2ms/step - loss: 0.2779 - categorical_accuracy: 0.9125\n",
      "Epoch 16/50\n",
      "400/400 [==============================] - 1s 2ms/step - loss: 0.2539 - categorical_accuracy: 0.9150\n",
      "Epoch 17/50\n",
      "400/400 [==============================] - 1s 3ms/step - loss: 0.2198 - categorical_accuracy: 0.9425\n",
      "Epoch 18/50\n",
      "400/400 [==============================] - 1s 3ms/step - loss: 0.2598 - categorical_accuracy: 0.9150\n",
      "Epoch 19/50\n",
      "400/400 [==============================] - 1s 3ms/step - loss: 0.2902 - categorical_accuracy: 0.8975\n",
      "Epoch 20/50\n",
      "400/400 [==============================] - 1s 3ms/step - loss: 0.2752 - categorical_accuracy: 0.8975\n",
      "Epoch 21/50\n",
      "400/400 [==============================] - 1s 2ms/step - loss: 0.2200 - categorical_accuracy: 0.9275\n",
      "Epoch 22/50\n",
      "400/400 [==============================] - 1s 3ms/step - loss: 0.2205 - categorical_accuracy: 0.9325\n",
      "Epoch 23/50\n",
      "400/400 [==============================] - 1s 3ms/step - loss: 0.2068 - categorical_accuracy: 0.9250\n",
      "Epoch 24/50\n",
      "400/400 [==============================] - 1s 2ms/step - loss: 0.1670 - categorical_accuracy: 0.9575\n",
      "Epoch 25/50\n",
      "400/400 [==============================] - 1s 2ms/step - loss: 0.1580 - categorical_accuracy: 0.9650\n",
      "Epoch 26/50\n",
      "400/400 [==============================] - 1s 2ms/step - loss: 0.1763 - categorical_accuracy: 0.9575\n",
      "Epoch 27/50\n",
      "400/400 [==============================] - 1s 2ms/step - loss: 0.2263 - categorical_accuracy: 0.9025\n",
      "Epoch 28/50\n",
      "400/400 [==============================] - 1s 2ms/step - loss: 0.2426 - categorical_accuracy: 0.9075\n",
      "Epoch 29/50\n",
      "400/400 [==============================] - 1s 2ms/step - loss: 0.1857 - categorical_accuracy: 0.9350\n",
      "Epoch 30/50\n",
      "400/400 [==============================] - 1s 2ms/step - loss: 0.1773 - categorical_accuracy: 0.9550\n",
      "Epoch 31/50\n",
      "400/400 [==============================] - 1s 2ms/step - loss: 0.1575 - categorical_accuracy: 0.9475\n",
      "Epoch 32/50\n",
      "400/400 [==============================] - 1s 2ms/step - loss: 0.1403 - categorical_accuracy: 0.9575\n",
      "Epoch 33/50\n",
      "400/400 [==============================] - 1s 2ms/step - loss: 0.1484 - categorical_accuracy: 0.9500\n",
      "Epoch 34/50\n",
      "400/400 [==============================] - 1s 2ms/step - loss: 0.1040 - categorical_accuracy: 0.9775\n",
      "Epoch 35/50\n",
      "400/400 [==============================] - 1s 2ms/step - loss: 0.1030 - categorical_accuracy: 0.9775\n",
      "Epoch 36/50\n",
      "400/400 [==============================] - 1s 2ms/step - loss: 0.0884 - categorical_accuracy: 0.9775\n",
      "Epoch 37/50\n",
      "400/400 [==============================] - 1s 2ms/step - loss: 0.0997 - categorical_accuracy: 0.9825\n",
      "Epoch 38/50\n",
      "400/400 [==============================] - 1s 2ms/step - loss: 0.1415 - categorical_accuracy: 0.9575\n",
      "Epoch 39/50\n",
      "400/400 [==============================] - 1s 2ms/step - loss: 0.1227 - categorical_accuracy: 0.9475\n",
      "Epoch 40/50\n",
      "400/400 [==============================] - 1s 2ms/step - loss: 0.1596 - categorical_accuracy: 0.9450\n",
      "Epoch 41/50\n",
      "400/400 [==============================] - 1s 2ms/step - loss: 0.1715 - categorical_accuracy: 0.9375\n",
      "Epoch 42/50\n",
      "400/400 [==============================] - 1s 2ms/step - loss: 0.1268 - categorical_accuracy: 0.9600\n",
      "Epoch 43/50\n",
      "400/400 [==============================] - 1s 2ms/step - loss: 0.1072 - categorical_accuracy: 0.9700\n",
      "Epoch 44/50\n",
      "400/400 [==============================] - 1s 2ms/step - loss: 0.1035 - categorical_accuracy: 0.9750\n",
      "Epoch 45/50\n",
      "400/400 [==============================] - 1s 2ms/step - loss: 0.1048 - categorical_accuracy: 0.9725\n",
      "Epoch 46/50\n",
      "400/400 [==============================] - 1s 2ms/step - loss: 0.1036 - categorical_accuracy: 0.9775\n",
      "Epoch 47/50\n",
      "400/400 [==============================] - 1s 2ms/step - loss: 0.1022 - categorical_accuracy: 0.9700\n",
      "Epoch 48/50\n",
      "400/400 [==============================] - 1s 2ms/step - loss: 0.1144 - categorical_accuracy: 0.9700\n",
      "Epoch 49/50\n",
      "400/400 [==============================] - 1s 2ms/step - loss: 0.1032 - categorical_accuracy: 0.9750\n",
      "Epoch 50/50\n",
      "400/400 [==============================] - 1s 2ms/step - loss: 0.0894 - categorical_accuracy: 0.9825\n"
     ]
    },
    {
     "data": {
      "text/plain": [
       "<keras.callbacks.callbacks.History at 0x1c3d283ef0>"
      ]
     },
     "execution_count": 30,
     "metadata": {},
     "output_type": "execute_result"
    }
   ],
   "source": [
    "m.fit(X_train, Y_train, epochs=50, batch_size=64)"
   ]
  },
  {
   "cell_type": "code",
   "execution_count": 32,
   "metadata": {},
   "outputs": [
    {
     "name": "stdout",
     "output_type": "stream",
     "text": [
      "400/400 [==============================] - 1s 1ms/step\n",
      "Loss = 0.10349284708499909\n",
      "Train Accuracy = 0.9775000214576721\n"
     ]
    }
   ],
   "source": [
    "preds = m.evaluate(X_train, Y_train)\n",
    "print (\"Loss = \" + str(preds[0]))\n",
    "print (\"Train Accuracy = \" + str(preds[1]))"
   ]
  },
  {
   "cell_type": "code",
   "execution_count": 33,
   "metadata": {},
   "outputs": [
    {
     "name": "stdout",
     "output_type": "stream",
     "text": [
      "100/100 [==============================] - 0s 1ms/step\n",
      "Loss = 0.44623344898223877\n",
      "Test Accuracy = 0.8500000238418579\n"
     ]
    }
   ],
   "source": [
    "preds = m.evaluate(X_test, Y_test)\n",
    "print (\"Loss = \" + str(preds[0]))\n",
    "print (\"Test Accuracy = \" + str(preds[1]))"
   ]
  },
  {
   "cell_type": "code",
   "execution_count": null,
   "metadata": {},
   "outputs": [],
   "source": [
    "def extract_all_features(X, model, layer_nums, batch_num):\n",
    "    \"\"\"Extract all the features by taking out the activation output of the layers specified in layer_nums\n",
    "    \n",
    "        X : the data that we are trying to extract features from\n",
    "        model: the model that we are using to extract the features\n",
    "        layer_nums: the layer number that we want to use as feature extractors\n",
    "    \"\"\"\n",
    "    outputs = [model.layers[layer].output for layer in layer_nums]\n",
    "    f = keras.backend.function([model.input, keras.backend.learning_phase()], outputs)\n",
    "    ## split up into smaller chunks\n",
    "    layer_outs = []\n",
    "    m = X.shape[0]\n",
    "    for i in range(batch_num):\n",
    "        layer_outs += [f([X[(m // batch_num * i):(m // batch_num * (i+1)), :, :], 0.])]\n",
    "    result = []\n",
    "    for i in range(len(layer_nums)):\n",
    "        layer_outs2 = []\n",
    "        for batch in range(batch_num):\n",
    "            activations = layer_outs[batch][i]\n",
    "            activations = activations.reshape(activations.shape[0], -1)\n",
    "            layer_outs2 += [activations]\n",
    "        result += [np.vstack(np.array(layer_outs2))]\n",
    "    return result"
   ]
  }
 ],
 "metadata": {
  "kernelspec": {
   "display_name": "Python 3",
   "language": "python",
   "name": "python3"
  },
  "language_info": {
   "codemirror_mode": {
    "name": "ipython",
    "version": 3
   },
   "file_extension": ".py",
   "mimetype": "text/x-python",
   "name": "python",
   "nbconvert_exporter": "python",
   "pygments_lexer": "ipython3",
   "version": "3.7.3"
  }
 },
 "nbformat": 4,
 "nbformat_minor": 2
}
