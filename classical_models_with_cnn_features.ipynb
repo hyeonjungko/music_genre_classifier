{
 "cells": [
  {
   "cell_type": "code",
   "execution_count": 1,
   "metadata": {},
   "outputs": [],
   "source": [
    "import numpy as np\n",
    "\n",
    "import sklearn.model_selection as ms\n",
    "import sklearn.metrics as skmetrics\n",
    "\n",
    "from sklearn.discriminant_analysis import LinearDiscriminantAnalysis\n",
    "from sklearn.multiclass import OneVsRestClassifier\n",
    "from sklearn.naive_bayes import MultinomialNB\n",
    "from sklearn import svm\n",
    "from sklearn.cluster import KMeans\n",
    "from sklearn.mixture import GaussianMixture\n",
    "from sklearn.linear_model import LogisticRegression\n",
    "from sklearn.neural_network import MLPClassifier\n",
    "from sklearn.decomposition import PCA\n",
    "from sklearn.metrics import confusion_matrix\n",
    "\n",
    "from sklearn.ensemble import RandomForestClassifier\n",
    "\n",
    "from mpl_toolkits.mplot3d import Axes3D\n",
    "import matplotlib.pyplot as plt\n",
    "import numpy as np"
   ]
  },
  {
   "cell_type": "code",
   "execution_count": 11,
   "metadata": {},
   "outputs": [
    {
     "name": "stdout",
     "output_type": "stream",
     "text": [
      "(400, 5) (100, 5)\n"
     ]
    }
   ],
   "source": [
    "Y_train_1hot = np.loadtxt('mfcc_vals/Y_train.txt')\n",
    "Y_test_1hot = np.loadtxt('mfcc_vals/Y_test.txt')\n",
    "print(Y_train_1hot.shape, Y_test_1hot.shape)\n"
   ]
  },
  {
   "cell_type": "code",
   "execution_count": 12,
   "metadata": {},
   "outputs": [
    {
     "name": "stdout",
     "output_type": "stream",
     "text": [
      "(400,) (100,)\n"
     ]
    }
   ],
   "source": [
    "#flatten the y-values and encode them from 0-4.\n",
    "Y_train = np.where(Y_train_1hot==1)[1]\n",
    "Y_test = np.where(Y_test_1hot==1)[1]\n",
    "print(Y_train.shape, Y_test.shape)"
   ]
  },
  {
   "cell_type": "code",
   "execution_count": 27,
   "metadata": {},
   "outputs": [
    {
     "name": "stdout",
     "output_type": "stream",
     "text": [
      "(400, 25800) (100, 25800)\n"
     ]
    }
   ],
   "source": [
    "X_flatten_train = np.load('mfcc_vals/X_train.npy').reshape(Y_train.shape[0],-1)\n",
    "X_flatten_test = np.load('mfcc_vals/X_test.npy').reshape(Y_test.shape[0],-1)\n",
    "print(X_flatten_train.shape, X_flatten_test.shape)"
   ]
  },
  {
   "cell_type": "code",
   "execution_count": 32,
   "metadata": {},
   "outputs": [
    {
     "name": "stdout",
     "output_type": "stream",
     "text": [
      "Training SVM for conv_1 layers ...\n",
      "(400, 640)\n",
      "\t# of Misclassification: 15\n",
      "\tTrain accuracy: 0.98\n",
      "\tTest accuracy: 0.85\n"
     ]
    }
   ],
   "source": [
    "print('Training SVM for conv_1 layers ...')\n",
    "\n",
    "X_train_hidden1 = np.loadtxt('cnn_extracted_features/conv_1_train.txt')\n",
    "X_test_hidden1 = np.loadtxt('cnn_extracted_features/conv_1_test.txt')\n",
    "print(X_train_hidden1.shape)\n",
    "\n",
    "clf = svm.SVC(gamma='scale').fit(X_train_hidden1, Y_train)\n",
    "Y_pred = clf.predict(X_test_hidden1)\n",
    "error = sum([1 for i in range(len(Y_test)) if Y_test[i] != Y_pred[i]])\n",
    "train_error = clf.score(X_train_hidden1, Y_train)\n",
    "test_error = clf.score(X_test_hidden1, Y_test)\n",
    "\n",
    "print('\\t# of Misclassification: %s' % str(error))\n",
    "print('\\tTrain accuracy: %s' % str(train_error))\n",
    "print('\\tTest accuracy: %s' % str(test_error))"
   ]
  },
  {
   "cell_type": "code",
   "execution_count": 40,
   "metadata": {},
   "outputs": [
    {
     "name": "stdout",
     "output_type": "stream",
     "text": [
      "Training SVM for conv_2 layers ...\n",
      "(400, 640)\n",
      "\t# of Misclassification: 15\n",
      "\tTrain accuracy: 0.9975\n",
      "\tTest accuracy: 0.85\n"
     ]
    }
   ],
   "source": [
    "print('Training SVM for conv_2 layers ...')\n",
    "\n",
    "X_train_hidden2 = np.loadtxt('cnn_extracted_features/conv_2_train.txt')\n",
    "X_test_hidden2 = np.loadtxt('cnn_extracted_features/conv_2_test.txt')\n",
    "print(X_train_hidden1.shape)\n",
    "\n",
    "clf = svm.SVC(gamma='scale').fit(X_train_hidden2, Y_train)\n",
    "Y_pred = clf.predict(X_test_hidden2)\n",
    "error = sum([1 for i in range(len(Y_test)) if Y_test[i] != Y_pred[i]])\n",
    "train_error = clf.score(X_train_hidden2, Y_train)\n",
    "test_error = clf.score(X_test_hidden2, Y_test)\n",
    "\n",
    "print('\\t# of Misclassification: %s' % str(error))\n",
    "print('\\tTrain accuracy: %s' % str(train_error))\n",
    "print('\\tTest accuracy: %s' % str(test_error))"
   ]
  },
  {
   "cell_type": "code",
   "execution_count": 46,
   "metadata": {},
   "outputs": [
    {
     "name": "stdout",
     "output_type": "stream",
     "text": [
      "\tTrain accuracy: 1.0\n",
      "\tTest accuracy: 0.86\n"
     ]
    }
   ],
   "source": [
    "X_train = X_train_hidden1\n",
    "X_test = X_test_hidden1\n",
    "clf = RandomForestClassifier(n_estimators=200, max_depth=20, random_state=0).fit(X_train, Y_train)\n",
    "Y_pred = clf.predict(X_test)\n",
    "train_error = clf.score(X_train, Y_train)\n",
    "test_error = clf.score(X_test, Y_test)\n",
    "\n",
    "print('\\tTrain accuracy: %s' % str(train_error))\n",
    "print('\\tTest accuracy: %s' % str(test_error))"
   ]
  },
  {
   "cell_type": "code",
   "execution_count": 45,
   "metadata": {},
   "outputs": [
    {
     "name": "stdout",
     "output_type": "stream",
     "text": [
      "\tTrain accuracy: 1.0\n",
      "\tTest accuracy: 0.86\n"
     ]
    }
   ],
   "source": [
    "X_train = X_train_hidden2\n",
    "X_test = X_test_hidden2\n",
    "clf = RandomForestClassifier(n_estimators=200, max_depth=20, random_state=0).fit(X_train, Y_train)\n",
    "Y_pred = clf.predict(X_test)\n",
    "train_error = clf.score(X_train, Y_train)\n",
    "test_error = clf.score(X_test, Y_test)\n",
    "\n",
    "print('\\tTrain accuracy: %s' % str(train_error))\n",
    "print('\\tTest accuracy: %s' % str(test_error))"
   ]
  },
  {
   "cell_type": "code",
   "execution_count": null,
   "metadata": {},
   "outputs": [],
   "source": []
  }
 ],
 "metadata": {
  "kernelspec": {
   "display_name": "Python 3",
   "language": "python",
   "name": "python3"
  },
  "language_info": {
   "codemirror_mode": {
    "name": "ipython",
    "version": 3
   },
   "file_extension": ".py",
   "mimetype": "text/x-python",
   "name": "python",
   "nbconvert_exporter": "python",
   "pygments_lexer": "ipython3",
   "version": "3.7.3"
  }
 },
 "nbformat": 4,
 "nbformat_minor": 2
}
