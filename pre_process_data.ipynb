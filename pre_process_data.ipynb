{
 "cells": [
  {
   "cell_type": "code",
   "execution_count": 2,
   "metadata": {},
   "outputs": [
    {
     "name": "stderr",
     "output_type": "stream",
     "text": [
      "Using TensorFlow backend.\n"
     ]
    }
   ],
   "source": [
    "import os\n",
    "import keras\n",
    "import numpy as np\n",
    "import sklearn.model_selection as ms\n",
    "import matplotlib.pyplot as plt\n",
    "import librosa\n",
    "import librosa.display as display"
   ]
  },
  {
   "cell_type": "code",
   "execution_count": 3,
   "metadata": {},
   "outputs": [
    {
     "data": {
      "text/plain": [
       "(20, 1293)"
      ]
     },
     "execution_count": 3,
     "metadata": {},
     "output_type": "execute_result"
    }
   ],
   "source": [
    "#A function that generates the MFCC matrix from raw music data.\n",
    "def generate_mfcc_matrix(music_file_path):\n",
    "    y, sr = librosa.core.load(music_file_path)\n",
    "    return librosa.feature.mfcc(y, sr)\n",
    "mfcc_feature = generate_mfcc_matrix('genres/rock/rock.00005.wav')\n",
    "mfcc_feature.shape"
   ]
  },
  {
   "cell_type": "code",
   "execution_count": 4,
   "metadata": {},
   "outputs": [
    {
     "data": {
      "text/plain": [
       "<matplotlib.axes._subplots.AxesSubplot at 0x1077410b8>"
      ]
     },
     "execution_count": 4,
     "metadata": {},
     "output_type": "execute_result"
    },
    {
     "data": {
      "image/png": "[encoded data removed]",
      "text/plain": [
       "<Figure size 432x288 with 1 Axes>"
      ]
     },
     "metadata": {},
     "output_type": "display_data"
    }
   ],
   "source": [
    "display.specshow(mfcc_feature[:25])"
   ]
  },
  {
   "cell_type": "code",
   "execution_count": 5,
   "metadata": {},
   "outputs": [
    {
     "data": {
      "text/plain": [
       "(100, 20, 1290)"
      ]
     },
     "execution_count": 5,
     "metadata": {},
     "output_type": "execute_result"
    }
   ],
   "source": [
    "#generates a 20 x 1290 MFCC matrix for each song in this directory.\n",
    "#todo: maybe change the matrix size?\n",
    "def process_sub_directory(path):\n",
    "    result = []\n",
    "    for root, dirs, files in os.walk (path):\n",
    "        for file_name in files:\n",
    "            file_path = root + file_name\n",
    "            result += [generate_mfcc_matrix(file_path)[:20, :1290]]\n",
    "    len_set = set(music.shape for music in result)\n",
    "    return np.array(result)\n",
    "blues = process_sub_directory('genres/blues/')\n",
    "blues.shape"
   ]
  },
  {
   "cell_type": "code",
   "execution_count": 14,
   "metadata": {},
   "outputs": [
    {
     "name": "stdout",
     "output_type": "stream",
     "text": [
      "['me.mf', 'pop', '.DS_Store', 'ja.mf', 'metal', 'disco', 'blues', 'di.mf', 'bl.mf', 'cl.mf', 'reggae', 'classical', 'po.mf', 'ro.mf', 'input.mf', 'hi.mf', 'rock', 'hiphop', 'co.mf', 'bextract_single.mf', 're.mf', 'country', 'jazz']\n"
     ]
    },
    {
     "data": {
      "text/plain": [
       "array([[1., 0., 0., ..., 0., 0., 0.],\n",
       "       [1., 0., 0., ..., 0., 0., 0.],\n",
       "       [1., 0., 0., ..., 0., 0., 0.],\n",
       "       ...,\n",
       "       [0., 0., 0., ..., 0., 0., 0.],\n",
       "       [0., 0., 0., ..., 0., 0., 0.],\n",
       "       [0., 0., 0., ..., 0., 0., 0.]])"
      ]
     },
     "execution_count": 14,
     "metadata": {},
     "output_type": "execute_result"
    }
   ],
   "source": [
    "def process_directory(path):\n",
    "    sub_dirs = os.listdir(path)\n",
    "    print(sub_dirs)\n",
    "    c = 10\n",
    "    X = np.empty((0, 20, 1290))\n",
    "    Y = np.empty((0, c))\n",
    "    j = 0\n",
    "    for i in range(len(sub_dirs)):\n",
    "        #print('processing genre {0}'.format(sub_dirs[i]))\n",
    "        if sub_dirs[i] in ['classical', 'hiphop', 'metal', 'pop', 'blues']:\n",
    "            X_is = process_sub_directory('genres/{0}/'.format(sub_dirs[i]))\n",
    "            X = np.concatenate((X, X_is), axis=0)\n",
    "            Y_is = np.zeros((X_is.shape[0], c))\n",
    "            Y_is[:, j] = 1\n",
    "            Y = np.concatenate((Y, Y_is), axis=0)\n",
    "            j += 1\n",
    "    return X, Y\n",
    "\n",
    "X, Y = process_directory('genres/')\n",
    "Y"
   ]
  },
  {
   "cell_type": "code",
   "execution_count": 11,
   "metadata": {},
   "outputs": [
    {
     "data": {
      "text/plain": [
       "(500, 20, 1290)"
      ]
     },
     "execution_count": 11,
     "metadata": {},
     "output_type": "execute_result"
    }
   ],
   "source": [
    "X.shape"
   ]
  },
  {
   "cell_type": "code",
   "execution_count": null,
   "metadata": {},
   "outputs": [],
   "source": [
    "# inds = np.arange(X.shape[0])\n",
    "# # np.random.shuffle(inds)\n",
    "# # print(inds)\n",
    "# X_train, X_test, Y_train, Y_test = ms.train_test_split(X[inds], Y[inds], test_size=0.2, random_state=123)\n",
    "# print(X_train.shape, X_test.shape, Y_train.shape, Y_test.shape)\n",
    "# np.save('mfcc_vals/X_test.npy', X_test)\n",
    "# np.save('mfcc_vals/X_train.npy', X_train)\n",
    "# np.savetxt('mfcc_vals/Y_test.txt', Y_test)\n",
    "# np.savetxt('mfcc_vals/Y_train.txt', Y_train)"
   ]
  },
  {
   "cell_type": "code",
   "execution_count": 15,
   "metadata": {},
   "outputs": [],
   "source": [
    "#np.save('data_mat/X_10.npy', X)\n",
    "#np.save('data_mat/Y_10.npy', Y)\n",
    "np.save('data_mat/X_5.npy', X)\n",
    "np.save('data_mat/Y_5.npy', Y)"
   ]
  }
 ],
 "metadata": {
  "kernelspec": {
   "display_name": "Python 3",
   "language": "python",
   "name": "python3"
  },
  "language_info": {
   "codemirror_mode": {
    "name": "ipython",
    "version": 3
   },
   "file_extension": ".py",
   "mimetype": "text/x-python",
   "name": "python",
   "nbconvert_exporter": "python",
   "pygments_lexer": "ipython3",
   "version": "3.7.3"
  }
 },
 "nbformat": 4,
 "nbformat_minor": 2
}
